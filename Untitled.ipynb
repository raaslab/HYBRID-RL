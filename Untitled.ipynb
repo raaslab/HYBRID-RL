{
 "cells": [
  {
   "cell_type": "code",
   "execution_count": 26,
   "id": "b038c515-ceca-4dd6-8ff8-d5107299ab42",
   "metadata": {},
   "outputs": [
    {
     "name": "stdout",
     "output_type": "stream",
     "text": [
      "Keys in the file:\n",
      "data\n",
      "  demo_0: ['actions', 'dones', 'mode', 'obs', 'rewards', 'states']\n",
      "  demo_1: ['actions', 'dones', 'mode', 'obs', 'rewards', 'states']\n",
      "  demo_2: ['actions', 'dones', 'mode', 'obs', 'rewards', 'states']\n",
      "  demo_3: ['actions', 'dones', 'mode', 'obs', 'rewards', 'states']\n"
     ]
    }
   ],
   "source": [
    "import h5py\n",
    "\n",
    "# Open the HDF5 file and print its structure to ensure it contains the expected keys\n",
    "def print_structure(file_path):\n",
    "    with h5py.File(file_path, 'r') as file:\n",
    "        print(\"Keys in the file:\")\n",
    "        for key in file.keys():\n",
    "            print(key)\n",
    "            for subkey in file[key].keys():\n",
    "                print(f\"  {subkey}: {list(file[key][subkey].keys())}\")\n",
    "\n",
    "# Call the function with the correct file path\n",
    "print_structure('release/data/metaworld/Assembly_frame_stack_1_96x96_end_on_success/train.hdf5')\n"
   ]
  },
  {
   "cell_type": "code",
   "execution_count": 31,
   "id": "92b2c863-994c-442c-adf4-fd20ae00c849",
   "metadata": {},
   "outputs": [],
   "source": [
    "import h5py\n",
    "import torch\n",
    "from torchvision import transforms\n",
    "from torch.utils.data import Dataset, DataLoader, random_split\n",
    "import numpy as np\n",
    "import torch.nn as nn\n",
    "import torch.optim as optim\n",
    "from torchvision.models import resnet18\n",
    "from tqdm import tqdm\n",
    "\n",
    "class SparseDenseDataset(Dataset):\n",
    "    def __init__(self, hdf5_path, transform=None):\n",
    "        self.file = h5py.File(hdf5_path, 'r')\n",
    "        self.transform = transform\n",
    "        self.images = []\n",
    "        self.props = []\n",
    "        self.modes = []\n",
    "        \n",
    "        for demo_key in self.file['data'].keys():\n",
    "            demo_group = self.file['data'][demo_key]\n",
    "            # Extract and transpose the image data\n",
    "            images = demo_group['obs']['corner2_image'][:]\n",
    "            images = images.transpose(0, 2, 3, 1)  # Change from [N, H, W, C] to [N, C, H, W]\n",
    "            self.images.append(images)\n",
    "            \n",
    "            self.props.append(demo_group['obs']['prop'][:])\n",
    "            self.modes.append(demo_group['mode'][:])\n",
    "        \n",
    "        self.images = np.concatenate(self.images, axis=0)\n",
    "        self.props = np.concatenate(self.props, axis=0)\n",
    "        self.modes = np.concatenate(self.modes, axis=0)\n",
    "    \n",
    "    def __len__(self):\n",
    "        return len(self.modes)  # This should return the total number of entries\n",
    "\n",
    "    def __getitem__(self, idx):\n",
    "        image = self.images[idx]\n",
    "        prop = self.props[idx]\n",
    "        mode = self.modes[idx]\n",
    "        \n",
    "        if self.transform:\n",
    "            image = self.transform(image)  # Transform now expects image in [C, H, W]\n",
    "        \n",
    "        # Normalize prop data if needed\n",
    "        prop = (prop - np.mean(prop)) / np.std(prop)\n",
    "        \n",
    "        return {'image': image, 'prop': prop, 'mode': mode}\n",
    "\n",
    "\n",
    "# Transformations for the image data\n",
    "transform = transforms.Compose([\n",
    "    transforms.ToPILImage(),\n",
    "    transforms.Resize((96, 96)),  # Ensure image size if varying\n",
    "    transforms.ToTensor(),\n",
    "    transforms.Normalize(mean=[0.485, 0.456, 0.406], std=[0.229, 0.224, 0.225]),\n",
    "])\n",
    "\n",
    "dataset = SparseDenseDataset('release/data/metaworld/Assembly_frame_stack_1_96x96_end_on_success/train.hdf5', transform=transform)\n",
    "dataloader = DataLoader(dataset, batch_size=32, shuffle=True)\n",
    "\n",
    "\n",
    "# Split the dataset into training and validation\n",
    "train_size = int(0.8 * len(dataset))\n",
    "val_size = len(dataset) - train_size\n",
    "train_dataset, val_dataset = random_split(dataset, [train_size, val_size])\n",
    "train_loader = DataLoader(train_dataset, batch_size=32, shuffle=True)\n",
    "val_loader = DataLoader(val_dataset, batch_size=32, shuffle=False)\n",
    "\n",
    "# # Modify the classifier to output two classes (sparse and dense modes)\n",
    "# num_ftrs = model.fc.in_features\n",
    "# model.fc = nn.Linear(num_ftrs, 2)  # Output for two classes\n",
    "\n",
    "# Use GPU if available\n",
    "device = torch.device(\"cuda\" if torch.cuda.is_available() else \"cpu\")\n"
   ]
  },
  {
   "cell_type": "code",
   "execution_count": 32,
   "id": "d573200e-d17a-414f-8030-e93c9bca5eb4",
   "metadata": {},
   "outputs": [
    {
     "name": "stderr",
     "output_type": "stream",
     "text": [
      "Epoch 1/10: 100%|█████████████████████████████████████████████████████████████████████████████████████████| 5/5 [00:00<00:00, 16.72it/s]\n"
     ]
    },
    {
     "name": "stdout",
     "output_type": "stream",
     "text": [
      "Training Loss: 1.2889820158481597, Validation Loss: 8.393877744674683\n"
     ]
    },
    {
     "name": "stderr",
     "output_type": "stream",
     "text": [
      "Epoch 2/10: 100%|█████████████████████████████████████████████████████████████████████████████████████████| 5/5 [00:00<00:00, 16.99it/s]\n"
     ]
    },
    {
     "name": "stdout",
     "output_type": "stream",
     "text": [
      "Training Loss: 0.3566894414834678, Validation Loss: 5.108250737190247\n"
     ]
    },
    {
     "name": "stderr",
     "output_type": "stream",
     "text": [
      "Epoch 3/10: 100%|█████████████████████████████████████████████████████████████████████████████████████████| 5/5 [00:00<00:00, 16.62it/s]\n"
     ]
    },
    {
     "name": "stdout",
     "output_type": "stream",
     "text": [
      "Training Loss: 0.09665083140134811, Validation Loss: 1.9458958357572556\n"
     ]
    },
    {
     "name": "stderr",
     "output_type": "stream",
     "text": [
      "Epoch 4/10: 100%|█████████████████████████████████████████████████████████████████████████████████████████| 5/5 [00:00<00:00, 17.09it/s]\n"
     ]
    },
    {
     "name": "stdout",
     "output_type": "stream",
     "text": [
      "Training Loss: 0.0103766362182796, Validation Loss: 2.587146535515785\n"
     ]
    },
    {
     "name": "stderr",
     "output_type": "stream",
     "text": [
      "Epoch 5/10: 100%|█████████████████████████████████████████████████████████████████████████████████████████| 5/5 [00:00<00:00, 16.98it/s]\n"
     ]
    },
    {
     "name": "stdout",
     "output_type": "stream",
     "text": [
      "Training Loss: 0.036093513434752825, Validation Loss: 0.6805043783970177\n"
     ]
    },
    {
     "name": "stderr",
     "output_type": "stream",
     "text": [
      "Epoch 6/10: 100%|█████████████████████████████████████████████████████████████████████████████████████████| 5/5 [00:00<00:00, 17.37it/s]\n"
     ]
    },
    {
     "name": "stdout",
     "output_type": "stream",
     "text": [
      "Training Loss: 0.08175538985524326, Validation Loss: 0.006220915878657252\n"
     ]
    },
    {
     "name": "stderr",
     "output_type": "stream",
     "text": [
      "Epoch 7/10: 100%|█████████████████████████████████████████████████████████████████████████████████████████| 5/5 [00:00<00:00, 18.13it/s]\n"
     ]
    },
    {
     "name": "stdout",
     "output_type": "stream",
     "text": [
      "Training Loss: 0.004559734219219536, Validation Loss: 1.3165777698159218\n"
     ]
    },
    {
     "name": "stderr",
     "output_type": "stream",
     "text": [
      "Epoch 8/10: 100%|█████████████████████████████████████████████████████████████████████████████████████████| 5/5 [00:00<00:00, 17.96it/s]\n"
     ]
    },
    {
     "name": "stdout",
     "output_type": "stream",
     "text": [
      "Training Loss: 0.04257897436618805, Validation Loss: 0.6592525923624635\n"
     ]
    },
    {
     "name": "stderr",
     "output_type": "stream",
     "text": [
      "Epoch 9/10: 100%|█████████████████████████████████████████████████████████████████████████████████████████| 5/5 [00:00<00:00, 17.75it/s]\n"
     ]
    },
    {
     "name": "stdout",
     "output_type": "stream",
     "text": [
      "Training Loss: 0.005700486374553293, Validation Loss: 0.0030521782318828627\n"
     ]
    },
    {
     "name": "stderr",
     "output_type": "stream",
     "text": [
      "Epoch 10/10: 100%|████████████████████████████████████████████████████████████████████████████████████████| 5/5 [00:00<00:00, 18.17it/s]\n"
     ]
    },
    {
     "name": "stdout",
     "output_type": "stream",
     "text": [
      "Training Loss: 0.0027157488977536557, Validation Loss: 0.0003315820067655295\n",
      "Training complete\n"
     ]
    }
   ],
   "source": [
    "class HybridResNet(nn.Module):\n",
    "    def __init__(self, num_prop_features):\n",
    "        super(HybridResNet, self).__init__()\n",
    "        # Load a pre-trained ResNet-18 model, discard the final fc layer\n",
    "        base_model = resnet18(pretrained=True)\n",
    "        self.features = nn.Sequential(*list(base_model.children())[:-1])\n",
    "        \n",
    "        # Adding a small network for processing `prop` data\n",
    "        self.prop_processor = nn.Sequential(\n",
    "            nn.Linear(num_prop_features, 50),\n",
    "            nn.ReLU(),\n",
    "            nn.Linear(50, 20),\n",
    "            nn.ReLU()\n",
    "        )\n",
    "        \n",
    "        # The final classifier that combines both features\n",
    "        self.classifier = nn.Linear(512 + 20, 2)  # 512 for ResNet-18, 20 from prop_processor\n",
    "\n",
    "    def forward(self, images, props):\n",
    "        img_features = self.features(images)\n",
    "        img_features = img_features.view(img_features.size(0), -1)  # Flatten the features\n",
    "        \n",
    "        prop_features = self.prop_processor(props)\n",
    "        \n",
    "        # Concatenate the features from both networks\n",
    "        combined_features = torch.cat((img_features, prop_features), dim=1)\n",
    "        \n",
    "        # Final classification\n",
    "        outputs = self.classifier(combined_features)\n",
    "        return outputs\n",
    "\n",
    "# Setup the model\n",
    "model = HybridResNet(num_prop_features=4)  # Assuming `prop` has 4 features\n",
    "model = model.to(device)\n",
    "\n",
    "# Redefine criterion and optimizer as needed\n",
    "criterion = nn.CrossEntropyLoss()\n",
    "optimizer = optim.Adam(model.parameters(), lr=0.001)\n",
    "\n",
    "# Adjusted training loop to pass both images and props\n",
    "for epoch in range(num_epochs):\n",
    "    model.train()\n",
    "    running_loss = 0.0\n",
    "    for data in tqdm(train_loader, desc=f\"Epoch {epoch + 1}/{num_epochs}\"):\n",
    "        images = data['image'].to(device)\n",
    "        props = data['prop'].to(device).float()\n",
    "        modes = data['mode'].to(device).long()\n",
    "\n",
    "        # Forward pass with both images and props\n",
    "        outputs = model(images, props)\n",
    "        loss = criterion(outputs, modes)\n",
    "\n",
    "        # Backward and optimize\n",
    "        optimizer.zero_grad()\n",
    "        loss.backward()\n",
    "        optimizer.step()\n",
    "\n",
    "        running_loss += loss.item()\n",
    "\n",
    "    # Validation loss\n",
    "    model.eval()\n",
    "    val_loss = 0.0\n",
    "    with torch.no_grad():\n",
    "        for data in val_loader:\n",
    "            images = data['image'].to(device)\n",
    "            props = data['prop'].to(device).float()\n",
    "            modes = data['mode'].to(device).long()\n",
    "            \n",
    "            # Ensure both images and props are passed during the validation phase as well\n",
    "            outputs = model(images, props)\n",
    "            loss = criterion(outputs, modes)\n",
    "            val_loss += loss.item()\n",
    "\n",
    "    print(f\"Training Loss: {running_loss / len(train_loader)}, Validation Loss: {val_loss / len(val_loader)}\")\n",
    "\n",
    "\n",
    "print(\"Training complete\")\n"
   ]
  },
  {
   "cell_type": "code",
   "execution_count": 36,
   "id": "63e902f2-a7b6-4c8b-b3cb-3a04aa868234",
   "metadata": {},
   "outputs": [],
   "source": [
    "torch.save(model.state_dict(), 'now.pth')"
   ]
  },
  {
   "cell_type": "code",
   "execution_count": 37,
   "id": "0a58a13e-73b9-403f-ae94-54b5389da376",
   "metadata": {},
   "outputs": [
    {
     "name": "stdout",
     "output_type": "stream",
     "text": [
      "Accuracy of the model on the test dataset: 100.00%\n"
     ]
    }
   ],
   "source": [
    "import torch\n",
    "from torch.utils.data import DataLoader\n",
    "import numpy as np\n",
    "import h5py\n",
    "from torchvision import transforms\n",
    "\n",
    "# Assuming the SparseDenseDataset and HybridResNet classes are defined as above\n",
    "# Load the model\n",
    "model_path = 'now.pth'  # Adjust path as necessary\n",
    "model = HybridResNet(num_prop_features=4)\n",
    "model.load_state_dict(torch.load(model_path, map_location=device))\n",
    "model.to(device)\n",
    "model.eval()\n",
    "\n",
    "# Define the transformation and dataset\n",
    "transform = transforms.Compose([\n",
    "    transforms.ToPILImage(),\n",
    "    transforms.Resize((96, 96)),  # Ensure image size if varying\n",
    "    transforms.ToTensor(),\n",
    "    transforms.Normalize(mean=[0.485, 0.456, 0.406], std=[0.229, 0.224, 0.225]),\n",
    "])\n",
    "\n",
    "dataset = SparseDenseDataset('release/data/metaworld/Assembly_frame_stack_1_96x96_end_on_success/test.hdf5', transform=transform)  # Load your new dataset\n",
    "dataloader = DataLoader(dataset, batch_size=32, shuffle=False)\n",
    "\n",
    "# Function to calculate accuracy\n",
    "def calculate_accuracy(dataloader, model):\n",
    "    correct = 0\n",
    "    total = 0\n",
    "    with torch.no_grad():\n",
    "        for data in dataloader:\n",
    "            images = data['image'].to(device)\n",
    "            props = data['prop'].to(device).float()\n",
    "            modes = data['mode'].to(device).long()\n",
    "            outputs = model(images, props)\n",
    "            _, predicted = torch.max(outputs.data, 1)\n",
    "            total += modes.size(0)\n",
    "            correct += (predicted == modes).sum().item()\n",
    "\n",
    "    accuracy = 100 * correct / total\n",
    "    return accuracy\n",
    "\n",
    "# Calculate and print the accuracy\n",
    "accuracy = calculate_accuracy(dataloader, model)\n",
    "print(f'Accuracy of the model on the test dataset: {accuracy:.2f}%')\n"
   ]
  },
  {
   "cell_type": "code",
   "execution_count": null,
   "id": "861865e8-a69b-43bd-b4bb-d812c94b4b31",
   "metadata": {},
   "outputs": [],
   "source": []
  },
  {
   "cell_type": "code",
   "execution_count": null,
   "id": "b1507305-2b13-4ce2-aa67-08df9ff25dcc",
   "metadata": {},
   "outputs": [],
   "source": []
  }
 ],
 "metadata": {
  "kernelspec": {
   "display_name": "Python 3 (ipykernel)",
   "language": "python",
   "name": "python3"
  },
  "language_info": {
   "codemirror_mode": {
    "name": "ipython",
    "version": 3
   },
   "file_extension": ".py",
   "mimetype": "text/x-python",
   "name": "python",
   "nbconvert_exporter": "python",
   "pygments_lexer": "ipython3",
   "version": "3.9.19"
  }
 },
 "nbformat": 4,
 "nbformat_minor": 5
}
