{
 "cells": [
  {
   "cell_type": "code",
   "execution_count": 13,
   "id": "189c064f-c7c3-4ad1-a2c5-0589b6fb4492",
   "metadata": {},
   "outputs": [
    {
     "name": "stderr",
     "output_type": "stream",
     "text": [
      "/tmp/ipykernel_15973/3970636142.py:33: DeprecationWarning: an integer is required (got type numpy.float64).  Implicit conversion to integers using __int__ is deprecated, and may be removed in a future version of Python.\n",
      "  label = torch.tensor(label, dtype=torch.long)\n"
     ]
    },
    {
     "name": "stdout",
     "output_type": "stream",
     "text": [
      "Epoch 1/10, Loss: 0.3378\n",
      "Epoch 2/10, Loss: 0.2127\n",
      "Epoch 3/10, Loss: 0.0706\n",
      "Epoch 4/10, Loss: 0.0266\n",
      "Epoch 5/10, Loss: 0.1038\n",
      "Epoch 6/10, Loss: 0.0355\n",
      "Epoch 7/10, Loss: 0.0081\n",
      "Epoch 8/10, Loss: 0.0683\n",
      "Epoch 9/10, Loss: 0.0613\n",
      "Epoch 10/10, Loss: 0.0709\n",
      "Training complete\n"
     ]
    }
   ],
   "source": [
    "import h5py\n",
    "import torch\n",
    "from torch.utils.data import Dataset, DataLoader\n",
    "import torch.nn as nn\n",
    "import torch.optim as optim\n",
    "from torchvision import models\n",
    "\n",
    "# Define the custom dataset class for handling the HDF5 data\n",
    "class HDF5Dataset(Dataset):\n",
    "    def __init__(self, file_path):\n",
    "        self.file_path = file_path\n",
    "        self.data = []\n",
    "        with h5py.File(self.file_path, 'r') as file:\n",
    "            data_group = file['data']  # Access the 'data' group\n",
    "            for demo_key in [key for key in data_group.keys() if key.startswith('demo')]:\n",
    "                images = data_group[demo_key]['obs']['corner2_image'][:]\n",
    "                props = data_group[demo_key]['obs']['prop'][:]\n",
    "                labels = data_group[demo_key]['mode'][:]\n",
    "                # Reformat each image to match the expected input shape of [channels, height, width]\n",
    "                for img, prop, label in zip(images, props, labels):\n",
    "                    # Transpose the image to fit the expected order\n",
    "                    img = img.transpose(1, 2, 0)  # Assuming original shape [height, channel, width]\n",
    "                    self.data.append((img, prop, label))\n",
    "\n",
    "    def __len__(self):\n",
    "        return len(self.data)\n",
    "\n",
    "    def __getitem__(self, idx):\n",
    "        img, prop, label = self.data[idx]\n",
    "        # Normalize and permute the image data\n",
    "        img = torch.tensor(img, dtype=torch.float32).permute(2, 0, 1) / 255.0  # Now in [channels, height, width]\n",
    "        prop = torch.tensor(prop, dtype=torch.float32)\n",
    "        label = torch.tensor(label, dtype=torch.long)\n",
    "        return img, prop, label\n",
    "\n",
    "# Path to the HDF5 file\n",
    "file_path = 'release/data/metaworld/Assembly_frame_stack_1_96x96_end_on_success/dataset_mode.hdf5'\n",
    "\n",
    "# Initialize dataset and dataloader\n",
    "dataset = HDF5Dataset(file_path)\n",
    "dataloader = DataLoader(dataset, batch_size=4, shuffle=True)\n",
    "\n",
    "# Modify ResNet-18 to include property data correctly\n",
    "class CustomResNet(nn.Module):\n",
    "    def __init__(self, num_props):\n",
    "        super().__init__()\n",
    "        # Initialize the base ResNet model with its pretrained weights\n",
    "        base_model = models.resnet18(pretrained=True)\n",
    "        self.features = nn.Sequential(*list(base_model.children())[:-1])  # Exclude the original FC layer\n",
    "        num_ftrs = base_model.fc.in_features  # The number of features output by the convolutional layers\n",
    "        self.fc = nn.Sequential(\n",
    "            nn.Linear(num_ftrs + num_props, 100),  # Combine image features with properties\n",
    "            nn.ReLU(),\n",
    "            nn.Linear(100, 2)  # For two class classification\n",
    "        )\n",
    "\n",
    "    def forward(self, x, props):\n",
    "        x = self.features(x)  # Pass the image through the feature extractor\n",
    "        x = x.view(x.size(0), -1)  # Flatten the features\n",
    "        x = torch.cat((x, props), dim=1)  # Concatenate the flattened features with the properties\n",
    "        x = self.fc(x)  # Pass the combined features through the fully connected layers\n",
    "        return x\n",
    "\n",
    "# Instantiate the custom model\n",
    "custom_model = CustomResNet(num_props=4)\n",
    "\n",
    "# Loss function and optimizer\n",
    "criterion = nn.CrossEntropyLoss()\n",
    "optimizer = optim.SGD(custom_model.parameters(), lr=0.001, momentum=0.9)\n",
    "\n",
    "# Training function\n",
    "def train_model(model, criterion, optimizer, num_epochs=10):\n",
    "    model.train()\n",
    "    for epoch in range(num_epochs):\n",
    "        running_loss = 0.0\n",
    "        for images, props, labels in dataloader:\n",
    "            optimizer.zero_grad()\n",
    "            outputs = model(images, props)\n",
    "            loss = criterion(outputs, labels)\n",
    "            loss.backward()\n",
    "            optimizer.step()\n",
    "            running_loss += loss.item() * images.size(0)\n",
    "        epoch_loss = running_loss / len(dataset)\n",
    "        print(f'Epoch {epoch + 1}/{num_epochs}, Loss: {epoch_loss:.4f}')\n",
    "    print('Training complete')\n",
    "    return model\n",
    "\n",
    "# Train the model\n",
    "trained_model = train_model(custom_model, criterion, optimizer, num_epochs=10)\n"
   ]
  },
  {
   "cell_type": "code",
   "execution_count": 7,
   "id": "b038c515-ceca-4dd6-8ff8-d5107299ab42",
   "metadata": {},
   "outputs": [
    {
     "name": "stdout",
     "output_type": "stream",
     "text": [
      "Keys in the file:\n",
      "data\n",
      "  demo_0: ['actions', 'dones', 'mode', 'obs', 'rewards', 'states']\n",
      "  demo_1: ['actions', 'dones', 'mode', 'obs', 'rewards', 'states']\n",
      "  demo_2: ['actions', 'dones', 'mode', 'obs', 'rewards', 'states']\n",
      "  demo_3: ['actions', 'dones', 'mode', 'obs', 'rewards', 'states']\n",
      "  demo_4: ['actions', 'dones', 'mode', 'obs', 'rewards', 'states']\n"
     ]
    }
   ],
   "source": [
    "import h5py\n",
    "\n",
    "# Open the HDF5 file and print its structure to ensure it contains the expected keys\n",
    "def print_structure(file_path):\n",
    "    with h5py.File(file_path, 'r') as file:\n",
    "        print(\"Keys in the file:\")\n",
    "        for key in file.keys():\n",
    "            print(key)\n",
    "            for subkey in file[key].keys():\n",
    "                print(f\"  {subkey}: {list(file[key][subkey].keys())}\")\n",
    "\n",
    "# Call the function with the correct file path\n",
    "print_structure('release/data/metaworld/Assembly_frame_stack_1_96x96_end_on_success/dataset_mode.hdf5')\n"
   ]
  },
  {
   "cell_type": "code",
   "execution_count": null,
   "id": "481f20a5-9d42-41b4-9249-f99a6563571a",
   "metadata": {},
   "outputs": [],
   "source": []
  }
 ],
 "metadata": {
  "kernelspec": {
   "display_name": "Python 3 (ipykernel)",
   "language": "python",
   "name": "python3"
  },
  "language_info": {
   "codemirror_mode": {
    "name": "ipython",
    "version": 3
   },
   "file_extension": ".py",
   "mimetype": "text/x-python",
   "name": "python",
   "nbconvert_exporter": "python",
   "pygments_lexer": "ipython3",
   "version": "3.9.19"
  }
 },
 "nbformat": 4,
 "nbformat_minor": 5
}
